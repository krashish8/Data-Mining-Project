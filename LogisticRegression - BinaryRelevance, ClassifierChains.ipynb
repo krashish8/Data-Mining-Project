{
  "nbformat": 4,
  "nbformat_minor": 0,
  "metadata": {
    "colab": {
      "name": "LR - Binary Relevance, Classifier chains.ipynb",
      "provenance": [],
      "collapsed_sections": []
    },
    "kernelspec": {
      "name": "python3",
      "display_name": "Python 3"
    }
  },
  "cells": [
    {
      "cell_type": "code",
      "metadata": {
        "id": "VNMFWmoDsBx8",
        "outputId": "4249b632-1c8d-4730-f1f1-11edbc8dd6e1",
        "colab": {
          "base_uri": "https://localhost:8080/"
        }
      },
      "source": [
        "from google.colab import drive\n",
        "drive.mount('/content/drive')"
      ],
      "execution_count": 1,
      "outputs": [
        {
          "output_type": "stream",
          "text": [
            "Mounted at /content/drive\n"
          ],
          "name": "stdout"
        }
      ]
    },
    {
      "cell_type": "code",
      "metadata": {
        "id": "dmooG68RseQG"
      },
      "source": [
        "path='/content/drive/My Drive/Colab Notebooks/Data_Mining/Toxic Comment Analysis/'"
      ],
      "execution_count": 2,
      "outputs": []
    },
    {
      "cell_type": "code",
      "metadata": {
        "id": "erJA49Pns7PN",
        "outputId": "5297f411-0ce6-49c1-afba-36f513b2812a",
        "colab": {
          "base_uri": "https://localhost:8080/",
          "height": 35
        }
      },
      "source": [
        "\"\"\"Un-Comment For Running locally out of colab\n",
        "path='./dataset'\n",
        "\"\"\"#Un-Comment For Running locally out of colab "
      ],
      "execution_count": 3,
      "outputs": [
        {
          "output_type": "execute_result",
          "data": {
            "application/vnd.google.colaboratory.intrinsic+json": {
              "type": "string"
            },
            "text/plain": [
              "\"Un-Comment For Running locally out of colab\\npath='./dataset'\\n\""
            ]
          },
          "metadata": {
            "tags": []
          },
          "execution_count": 3
        }
      ]
    },
    {
      "cell_type": "code",
      "metadata": {
        "id": "NC2nlqYdtDRw"
      },
      "source": [
        "import pandas as pd"
      ],
      "execution_count": 4,
      "outputs": []
    },
    {
      "cell_type": "code",
      "metadata": {
        "id": "tm1w-jons7oD"
      },
      "source": [
        "train = pd.read_csv(path + \"train.csv\")\n",
        "test = pd.read_csv(path + \"test.csv\")"
      ],
      "execution_count": 5,
      "outputs": []
    },
    {
      "cell_type": "code",
      "metadata": {
        "id": "4WzwTlIZtKzs",
        "outputId": "4d2532f6-468d-4ece-83d5-2edf5d1f5315",
        "colab": {
          "base_uri": "https://localhost:8080/",
          "height": 204
        }
      },
      "source": [
        "train.head()"
      ],
      "execution_count": 6,
      "outputs": [
        {
          "output_type": "execute_result",
          "data": {
            "text/html": [
              "<div>\n",
              "<style scoped>\n",
              "    .dataframe tbody tr th:only-of-type {\n",
              "        vertical-align: middle;\n",
              "    }\n",
              "\n",
              "    .dataframe tbody tr th {\n",
              "        vertical-align: top;\n",
              "    }\n",
              "\n",
              "    .dataframe thead th {\n",
              "        text-align: right;\n",
              "    }\n",
              "</style>\n",
              "<table border=\"1\" class=\"dataframe\">\n",
              "  <thead>\n",
              "    <tr style=\"text-align: right;\">\n",
              "      <th></th>\n",
              "      <th>id</th>\n",
              "      <th>comment_text</th>\n",
              "      <th>toxic</th>\n",
              "      <th>severe_toxic</th>\n",
              "      <th>obscene</th>\n",
              "      <th>threat</th>\n",
              "      <th>insult</th>\n",
              "      <th>identity_hate</th>\n",
              "    </tr>\n",
              "  </thead>\n",
              "  <tbody>\n",
              "    <tr>\n",
              "      <th>0</th>\n",
              "      <td>0000997932d777bf</td>\n",
              "      <td>Explanation\\nWhy the edits made under my usern...</td>\n",
              "      <td>0</td>\n",
              "      <td>0</td>\n",
              "      <td>0</td>\n",
              "      <td>0</td>\n",
              "      <td>0</td>\n",
              "      <td>0</td>\n",
              "    </tr>\n",
              "    <tr>\n",
              "      <th>1</th>\n",
              "      <td>000103f0d9cfb60f</td>\n",
              "      <td>D'aww! He matches this background colour I'm s...</td>\n",
              "      <td>0</td>\n",
              "      <td>0</td>\n",
              "      <td>0</td>\n",
              "      <td>0</td>\n",
              "      <td>0</td>\n",
              "      <td>0</td>\n",
              "    </tr>\n",
              "    <tr>\n",
              "      <th>2</th>\n",
              "      <td>000113f07ec002fd</td>\n",
              "      <td>Hey man, I'm really not trying to edit war. It...</td>\n",
              "      <td>0</td>\n",
              "      <td>0</td>\n",
              "      <td>0</td>\n",
              "      <td>0</td>\n",
              "      <td>0</td>\n",
              "      <td>0</td>\n",
              "    </tr>\n",
              "    <tr>\n",
              "      <th>3</th>\n",
              "      <td>0001b41b1c6bb37e</td>\n",
              "      <td>\"\\nMore\\nI can't make any real suggestions on ...</td>\n",
              "      <td>0</td>\n",
              "      <td>0</td>\n",
              "      <td>0</td>\n",
              "      <td>0</td>\n",
              "      <td>0</td>\n",
              "      <td>0</td>\n",
              "    </tr>\n",
              "    <tr>\n",
              "      <th>4</th>\n",
              "      <td>0001d958c54c6e35</td>\n",
              "      <td>You, sir, are my hero. Any chance you remember...</td>\n",
              "      <td>0</td>\n",
              "      <td>0</td>\n",
              "      <td>0</td>\n",
              "      <td>0</td>\n",
              "      <td>0</td>\n",
              "      <td>0</td>\n",
              "    </tr>\n",
              "  </tbody>\n",
              "</table>\n",
              "</div>"
            ],
            "text/plain": [
              "                 id  ... identity_hate\n",
              "0  0000997932d777bf  ...             0\n",
              "1  000103f0d9cfb60f  ...             0\n",
              "2  000113f07ec002fd  ...             0\n",
              "3  0001b41b1c6bb37e  ...             0\n",
              "4  0001d958c54c6e35  ...             0\n",
              "\n",
              "[5 rows x 8 columns]"
            ]
          },
          "metadata": {
            "tags": []
          },
          "execution_count": 6
        }
      ]
    },
    {
      "cell_type": "code",
      "metadata": {
        "id": "fnbHIARvtMDF",
        "outputId": "bc7fced1-d295-484e-ea67-848812dfa547",
        "colab": {
          "base_uri": "https://localhost:8080/",
          "height": 297
        }
      },
      "source": [
        "train = train[:100000]\n",
        "train.describe()"
      ],
      "execution_count": 7,
      "outputs": [
        {
          "output_type": "execute_result",
          "data": {
            "text/html": [
              "<div>\n",
              "<style scoped>\n",
              "    .dataframe tbody tr th:only-of-type {\n",
              "        vertical-align: middle;\n",
              "    }\n",
              "\n",
              "    .dataframe tbody tr th {\n",
              "        vertical-align: top;\n",
              "    }\n",
              "\n",
              "    .dataframe thead th {\n",
              "        text-align: right;\n",
              "    }\n",
              "</style>\n",
              "<table border=\"1\" class=\"dataframe\">\n",
              "  <thead>\n",
              "    <tr style=\"text-align: right;\">\n",
              "      <th></th>\n",
              "      <th>toxic</th>\n",
              "      <th>severe_toxic</th>\n",
              "      <th>obscene</th>\n",
              "      <th>threat</th>\n",
              "      <th>insult</th>\n",
              "      <th>identity_hate</th>\n",
              "    </tr>\n",
              "  </thead>\n",
              "  <tbody>\n",
              "    <tr>\n",
              "      <th>count</th>\n",
              "      <td>100000.000000</td>\n",
              "      <td>100000.00000</td>\n",
              "      <td>100000.000000</td>\n",
              "      <td>100000.000000</td>\n",
              "      <td>100000.000000</td>\n",
              "      <td>100000.000000</td>\n",
              "    </tr>\n",
              "    <tr>\n",
              "      <th>mean</th>\n",
              "      <td>0.096120</td>\n",
              "      <td>0.00999</td>\n",
              "      <td>0.053270</td>\n",
              "      <td>0.003140</td>\n",
              "      <td>0.049670</td>\n",
              "      <td>0.008540</td>\n",
              "    </tr>\n",
              "    <tr>\n",
              "      <th>std</th>\n",
              "      <td>0.294757</td>\n",
              "      <td>0.09945</td>\n",
              "      <td>0.224573</td>\n",
              "      <td>0.055948</td>\n",
              "      <td>0.217263</td>\n",
              "      <td>0.092017</td>\n",
              "    </tr>\n",
              "    <tr>\n",
              "      <th>min</th>\n",
              "      <td>0.000000</td>\n",
              "      <td>0.00000</td>\n",
              "      <td>0.000000</td>\n",
              "      <td>0.000000</td>\n",
              "      <td>0.000000</td>\n",
              "      <td>0.000000</td>\n",
              "    </tr>\n",
              "    <tr>\n",
              "      <th>25%</th>\n",
              "      <td>0.000000</td>\n",
              "      <td>0.00000</td>\n",
              "      <td>0.000000</td>\n",
              "      <td>0.000000</td>\n",
              "      <td>0.000000</td>\n",
              "      <td>0.000000</td>\n",
              "    </tr>\n",
              "    <tr>\n",
              "      <th>50%</th>\n",
              "      <td>0.000000</td>\n",
              "      <td>0.00000</td>\n",
              "      <td>0.000000</td>\n",
              "      <td>0.000000</td>\n",
              "      <td>0.000000</td>\n",
              "      <td>0.000000</td>\n",
              "    </tr>\n",
              "    <tr>\n",
              "      <th>75%</th>\n",
              "      <td>0.000000</td>\n",
              "      <td>0.00000</td>\n",
              "      <td>0.000000</td>\n",
              "      <td>0.000000</td>\n",
              "      <td>0.000000</td>\n",
              "      <td>0.000000</td>\n",
              "    </tr>\n",
              "    <tr>\n",
              "      <th>max</th>\n",
              "      <td>1.000000</td>\n",
              "      <td>1.00000</td>\n",
              "      <td>1.000000</td>\n",
              "      <td>1.000000</td>\n",
              "      <td>1.000000</td>\n",
              "      <td>1.000000</td>\n",
              "    </tr>\n",
              "  </tbody>\n",
              "</table>\n",
              "</div>"
            ],
            "text/plain": [
              "               toxic  severe_toxic  ...         insult  identity_hate\n",
              "count  100000.000000  100000.00000  ...  100000.000000  100000.000000\n",
              "mean        0.096120       0.00999  ...       0.049670       0.008540\n",
              "std         0.294757       0.09945  ...       0.217263       0.092017\n",
              "min         0.000000       0.00000  ...       0.000000       0.000000\n",
              "25%         0.000000       0.00000  ...       0.000000       0.000000\n",
              "50%         0.000000       0.00000  ...       0.000000       0.000000\n",
              "75%         0.000000       0.00000  ...       0.000000       0.000000\n",
              "max         1.000000       1.00000  ...       1.000000       1.000000\n",
              "\n",
              "[8 rows x 6 columns]"
            ]
          },
          "metadata": {
            "tags": []
          },
          "execution_count": 7
        }
      ]
    },
    {
      "cell_type": "code",
      "metadata": {
        "id": "N_zaT_NFuE8P",
        "outputId": "abfbbe1e-eeab-47ec-a1ef-d1c03b9f9e53",
        "colab": {
          "base_uri": "https://localhost:8080/"
        }
      },
      "source": [
        "classes = list(train.columns)[2:]\n",
        "classes"
      ],
      "execution_count": 8,
      "outputs": [
        {
          "output_type": "execute_result",
          "data": {
            "text/plain": [
              "['toxic', 'severe_toxic', 'obscene', 'threat', 'insult', 'identity_hate']"
            ]
          },
          "metadata": {
            "tags": []
          },
          "execution_count": 8
        }
      ]
    },
    {
      "cell_type": "code",
      "metadata": {
        "id": "oM9QIfLVu7uE",
        "outputId": "03a7510c-17f0-494b-bd36-a167741b6408",
        "colab": {
          "base_uri": "https://localhost:8080/"
        }
      },
      "source": [
        "train[classes].sum()"
      ],
      "execution_count": 9,
      "outputs": [
        {
          "output_type": "execute_result",
          "data": {
            "text/plain": [
              "toxic            9612\n",
              "severe_toxic      999\n",
              "obscene          5327\n",
              "threat            314\n",
              "insult           4967\n",
              "identity_hate     854\n",
              "dtype: int64"
            ]
          },
          "metadata": {
            "tags": []
          },
          "execution_count": 9
        }
      ]
    },
    {
      "cell_type": "code",
      "metadata": {
        "id": "4fOjK066KSjg",
        "outputId": "a79e313c-6255-443a-a882-d8d04ddb42a1",
        "colab": {
          "base_uri": "https://localhost:8080/"
        }
      },
      "source": [
        "links = '(http://.*?\\s)|(http://.*)'\n",
        "ip_addr = '\\d{1,3}\\.\\d{1,3}\\.\\d{1,3}\\.\\d{1,3}'\n",
        "users = '\\[\\[User.*'\n",
        "newline = '\\\\n'\n",
        "print(train['comment_text'].str.contains(links).sum())\n",
        "print(train['comment_text'].str.contains(ip_addr).sum())\n",
        "print(train['comment_text'].str.contains(users).sum())\n",
        "print(train['comment_text'].str.contains(newline).sum())"
      ],
      "execution_count": 10,
      "outputs": [
        {
          "output_type": "stream",
          "text": [
            "/usr/local/lib/python3.6/dist-packages/pandas/core/strings.py:2001: UserWarning: This pattern has match groups. To actually get the groups, use str.extract.\n",
            "  return func(self, *args, **kwargs)\n"
          ],
          "name": "stderr"
        },
        {
          "output_type": "stream",
          "text": [
            "2766\n",
            "6313\n",
            "196\n",
            "59357\n"
          ],
          "name": "stdout"
        }
      ]
    },
    {
      "cell_type": "code",
      "metadata": {
        "id": "m07mORZILlL7"
      },
      "source": [
        "def clean(comment):\n",
        "  import re\n",
        "  comment=comment.lower()\n",
        "  comment=re.sub(links,'',comment)\n",
        "  comment=re.sub(ip_addr,'',comment)\n",
        "  comment=re.sub(users,'',comment)\n",
        "  comment=re.sub(newline,'',comment)\n",
        "  return comment"
      ],
      "execution_count": 11,
      "outputs": []
    },
    {
      "cell_type": "code",
      "metadata": {
        "id": "K12p5jE5NJ7R"
      },
      "source": [
        "train['comment_text']=train['comment_text'].map(lambda i:clean(i))\n",
        "test['comment_text']=test['comment_text'].map(lambda i:clean(i))"
      ],
      "execution_count": 12,
      "outputs": []
    },
    {
      "cell_type": "code",
      "metadata": {
        "id": "qH8sc6RHNjzd",
        "outputId": "d18b2aff-d780-41a4-a075-03fcd4a434ef",
        "colab": {
          "base_uri": "https://localhost:8080/"
        }
      },
      "source": [
        "print(train['comment_text'].str.contains(links).sum())\n",
        "print(train['comment_text'].str.contains(ip_addr).sum())\n",
        "print(train['comment_text'].str.contains(users).sum())\n",
        "print(train['comment_text'].str.contains(newline).sum())"
      ],
      "execution_count": 13,
      "outputs": [
        {
          "output_type": "stream",
          "text": [
            "/usr/local/lib/python3.6/dist-packages/pandas/core/strings.py:2001: UserWarning: This pattern has match groups. To actually get the groups, use str.extract.\n",
            "  return func(self, *args, **kwargs)\n"
          ],
          "name": "stderr"
        },
        {
          "output_type": "stream",
          "text": [
            "0\n",
            "0\n",
            "0\n",
            "0\n"
          ],
          "name": "stdout"
        }
      ]
    },
    {
      "cell_type": "code",
      "metadata": {
        "id": "aaMK6BUWNoxu"
      },
      "source": [
        ""
      ],
      "execution_count": 13,
      "outputs": []
    },
    {
      "cell_type": "code",
      "metadata": {
        "id": "cHKDqonvNujj"
      },
      "source": [
        ""
      ],
      "execution_count": 13,
      "outputs": []
    },
    {
      "cell_type": "code",
      "metadata": {
        "id": "MKP-Yq7tPYGu",
        "outputId": "18945a0c-b29b-4a42-a6d9-6f51829419ca",
        "colab": {
          "base_uri": "https://localhost:8080/"
        }
      },
      "source": [
        "x=train['comment_text']\n",
        "y=train.iloc[:,2:8]\n",
        "print(x.shape)\n",
        "print(y.shape)"
      ],
      "execution_count": 14,
      "outputs": [
        {
          "output_type": "stream",
          "text": [
            "(100000,)\n",
            "(100000, 6)\n"
          ],
          "name": "stdout"
        }
      ]
    },
    {
      "cell_type": "code",
      "metadata": {
        "id": "f6gBY2YROeW0"
      },
      "source": [
        "from sklearn.model_selection import train_test_split\n",
        "X_train, X_val, y_train, y_val = train_test_split(x,y,test_size=0.2,random_state=1)"
      ],
      "execution_count": 15,
      "outputs": []
    },
    {
      "cell_type": "code",
      "metadata": {
        "id": "C9eJhCPEO5Mu"
      },
      "source": [
        "from sklearn.feature_extraction.text import TfidfVectorizer"
      ],
      "execution_count": 16,
      "outputs": []
    },
    {
      "cell_type": "code",
      "metadata": {
        "id": "fV35kZ6lPsWr"
      },
      "source": [
        "tfidf=TfidfVectorizer(max_features=5000,strip_accents='unicode',stop_words='english',token_pattern=r'\\w{2,}')"
      ],
      "execution_count": 17,
      "outputs": []
    },
    {
      "cell_type": "code",
      "metadata": {
        "id": "OhuFSlyWPt7C",
        "outputId": "a97349c4-7721-4316-df89-c004187c9820",
        "colab": {
          "base_uri": "https://localhost:8080/"
        }
      },
      "source": [
        "tfidf.fit(X_train)\n",
        "X_train_feat=tfidf.fit_transform(X_train)\n",
        "X_train_feat.shape"
      ],
      "execution_count": 18,
      "outputs": [
        {
          "output_type": "execute_result",
          "data": {
            "text/plain": [
              "(80000, 5000)"
            ]
          },
          "metadata": {
            "tags": []
          },
          "execution_count": 18
        }
      ]
    },
    {
      "cell_type": "code",
      "metadata": {
        "id": "DsycMB0jQdtE"
      },
      "source": [
        ""
      ],
      "execution_count": 18,
      "outputs": []
    },
    {
      "cell_type": "code",
      "metadata": {
        "id": "Btj0-pI_RkRp",
        "outputId": "a4f3a684-aae0-4940-98a3-effb986704ba",
        "colab": {
          "base_uri": "https://localhost:8080/"
        }
      },
      "source": [
        "X_val_feat=tfidf.transform(X_val)\n",
        "X_val_feat.shape"
      ],
      "execution_count": 19,
      "outputs": [
        {
          "output_type": "execute_result",
          "data": {
            "text/plain": [
              "(20000, 5000)"
            ]
          },
          "metadata": {
            "tags": []
          },
          "execution_count": 19
        }
      ]
    },
    {
      "cell_type": "code",
      "metadata": {
        "id": "LSPxmRSzolyP"
      },
      "source": [
        ""
      ],
      "execution_count": 19,
      "outputs": []
    },
    {
      "cell_type": "code",
      "metadata": {
        "id": "Q1ao7bo2omFK"
      },
      "source": [
        "import numpy as np\n",
        "\n",
        "labels = pd.read_csv(path + \"test_labels.csv\")\n",
        "labels=labels.iloc[:,1:]\n",
        "sum_labels=np.sum(labels,axis=1)\n",
        "idx=sum_labels>=0"
      ],
      "execution_count": 20,
      "outputs": []
    },
    {
      "cell_type": "code",
      "metadata": {
        "id": "xzuFClKaomfm",
        "outputId": "101fddfb-721c-4cd5-e385-5a54f00ff238",
        "colab": {
          "base_uri": "https://localhost:8080/"
        }
      },
      "source": [
        "labels_consider=labels[idx]\n",
        "test=test.iloc[:,1:]\n",
        "tests_consider=test[idx].values[:,0]\n",
        "\n",
        "print(labels_consider.shape, tests_consider.shape)"
      ],
      "execution_count": 21,
      "outputs": [
        {
          "output_type": "stream",
          "text": [
            "(63978, 6) (63978,)\n"
          ],
          "name": "stdout"
        }
      ]
    },
    {
      "cell_type": "code",
      "metadata": {
        "id": "vY4jY1ZsovHZ",
        "outputId": "f7feb8da-61ec-4ee2-8434-71fd74937c1e",
        "colab": {
          "base_uri": "https://localhost:8080/"
        }
      },
      "source": [
        "X_test_feat=tfidf.transform(tests_consider)\n",
        "X_test_feat.shape"
      ],
      "execution_count": 22,
      "outputs": [
        {
          "output_type": "execute_result",
          "data": {
            "text/plain": [
              "(63978, 5000)"
            ]
          },
          "metadata": {
            "tags": []
          },
          "execution_count": 22
        }
      ]
    },
    {
      "cell_type": "code",
      "metadata": {
        "id": "AzLv5hJH3pqf"
      },
      "source": [
        ""
      ],
      "execution_count": 22,
      "outputs": []
    },
    {
      "cell_type": "code",
      "metadata": {
        "id": "WqXyGH1E3p7-"
      },
      "source": [
        ""
      ],
      "execution_count": 22,
      "outputs": []
    },
    {
      "cell_type": "code",
      "metadata": {
        "id": "BTn-o8A2SEqA"
      },
      "source": [
        "from sklearn.linear_model import LogisticRegression\n",
        "from sklearn.metrics import roc_auc_score\n",
        "\n",
        "model=LogisticRegression(C=20.0, max_iter=1000000)"
      ],
      "execution_count": 23,
      "outputs": []
    },
    {
      "cell_type": "code",
      "metadata": {
        "id": "2hz4KhQ_Wyrv"
      },
      "source": [
        "## Binary Relevance"
      ],
      "execution_count": 24,
      "outputs": []
    },
    {
      "cell_type": "code",
      "metadata": {
        "id": "UbSEmpvTTWYQ",
        "outputId": "348fa479-9daa-4904-f6a7-a45b477a3b80",
        "colab": {
          "base_uri": "https://localhost:8080/"
        }
      },
      "source": [
        "scores_roc_aoc = []\n",
        "\n",
        "for label_name in classes:\n",
        "    print('Class:', label_name)\n",
        "\n",
        "    model.fit(X_train_feat, y_train[label_name])\n",
        "    preds_train = model.predict(X_train_feat)\n",
        "    train_roc_auc = roc_auc_score(y_train[label_name], preds_train)\n",
        "    print('Train ROC AUC Score:', train_roc_auc)\n",
        "\n",
        "    preds_val = model.predict(X_val_feat)\n",
        "    val_roc_auc = roc_auc_score(y_val[label_name], preds_val)\n",
        "    print('Val ROC AUC Score:', val_roc_auc)\n",
        "\n",
        "    preds_test = model.predict(X_test_feat)\n",
        "    test_roc_auc = roc_auc_score(labels_consider[label_name], preds_test)\n",
        "    print('Test ROC AUC Score:', test_roc_auc)\n",
        "    scores_roc_aoc.append(test_roc_auc)\n",
        "\n",
        "    print()\n",
        "\n",
        "\n",
        "print(np.mean(scores_roc_aoc))"
      ],
      "execution_count": 25,
      "outputs": [
        {
          "output_type": "stream",
          "text": [
            "Class: toxic\n",
            "Train ROC AUC Score: 0.8641180051831711\n",
            "Val ROC AUC Score: 0.8207180907734924\n",
            "Test ROC AUC Score: 0.8417549380219865\n",
            "\n",
            "Class: severe_toxic\n",
            "Train ROC AUC Score: 0.7354769544912093\n",
            "Val ROC AUC Score: 0.6133964600570482\n",
            "Test ROC AUC Score: 0.6809342308240435\n",
            "\n",
            "Class: obscene\n",
            "Train ROC AUC Score: 0.8928312440198478\n",
            "Val ROC AUC Score: 0.848488716614316\n",
            "Test ROC AUC Score: 0.8235366774921389\n",
            "\n",
            "Class: threat\n",
            "Train ROC AUC Score: 0.8161114861718565\n",
            "Val ROC AUC Score: 0.6307964702177707\n",
            "Test ROC AUC Score: 0.6367507462186276\n",
            "\n",
            "Class: insult\n",
            "Train ROC AUC Score: 0.8373195677328823\n",
            "Val ROC AUC Score: 0.7741099340770253\n",
            "Test ROC AUC Score: 0.7691786795569605\n",
            "\n",
            "Class: identity_hate\n",
            "Train ROC AUC Score: 0.7554634080871397\n",
            "Val ROC AUC Score: 0.6637757907724186\n",
            "Test ROC AUC Score: 0.6410308739237967\n",
            "\n",
            "0.732197691006259\n"
          ],
          "name": "stdout"
        }
      ]
    },
    {
      "cell_type": "code",
      "metadata": {
        "id": "CArUWeW6jcNN"
      },
      "source": [
        ""
      ],
      "execution_count": 100,
      "outputs": []
    },
    {
      "cell_type": "code",
      "metadata": {
        "id": "g-I9iwL1VW91"
      },
      "source": [
        "## Classifier chains"
      ],
      "execution_count": 101,
      "outputs": []
    },
    {
      "cell_type": "code",
      "metadata": {
        "id": "JcgwvHDXW3q6"
      },
      "source": [
        "from scipy.sparse import hstack, csr_matrix\n",
        "\n",
        "def add_feat(x, feat):\n",
        "  return hstack([x, csr_matrix(feat).T], 'csr')"
      ],
      "execution_count": 26,
      "outputs": []
    },
    {
      "cell_type": "code",
      "metadata": {
        "id": "QmcS6jd0XU8E",
        "outputId": "02641ab7-3a95-499f-96c3-3a19d2eb460e",
        "colab": {
          "base_uri": "https://localhost:8080/"
        }
      },
      "source": [
        "scores_roc_aoc = []\n",
        "\n",
        "for label_name in classes:\n",
        "    print('Class:', label_name)\n",
        "\n",
        "    model.fit(X_train_feat, y_train[label_name])\n",
        "    preds_train = model.predict(X_train_feat)\n",
        "    train_roc_auc = roc_auc_score(y_train[label_name], preds_train)\n",
        "    print('Train ROC AUC Score:', train_roc_auc)\n",
        "\n",
        "    preds_val = model.predict(X_val_feat)\n",
        "    val_roc_auc = roc_auc_score(y_val[label_name], preds_val)\n",
        "    print('Val ROC AUC Score:', val_roc_auc)\n",
        "\n",
        "    preds_test = model.predict(X_test_feat)\n",
        "    test_roc_auc = roc_auc_score(labels_consider[label_name], preds_test)\n",
        "    print('Test ROC AUC Score:', test_roc_auc)\n",
        "    scores_roc_aoc.append(test_roc_auc)\n",
        "\n",
        "    X_train_feat = add_feat(X_train_feat, y_train[label_name])\n",
        "    X_val_feat = add_feat(X_val_feat, y_val[label_name])\n",
        "    X_test_feat = add_feat(X_test_feat, labels_consider[label_name])\n",
        "    print(X_train_feat.shape)\n",
        "    print(X_val_feat.shape)\n",
        "    print(X_test_feat.shape)\n",
        "    print()\n",
        "\n",
        "print(np.mean(scores_roc_aoc))"
      ],
      "execution_count": 27,
      "outputs": [
        {
          "output_type": "stream",
          "text": [
            "Class: toxic\n",
            "Train ROC AUC Score: 0.8641180051831711\n",
            "Val ROC AUC Score: 0.8207180907734924\n",
            "Test ROC AUC Score: 0.8417549380219865\n",
            "(80000, 5001)\n",
            "(20000, 5001)\n",
            "(63978, 5001)\n",
            "\n",
            "Class: severe_toxic\n",
            "Train ROC AUC Score: 0.7721650129423699\n",
            "Val ROC AUC Score: 0.6035140679772546\n",
            "Test ROC AUC Score: 0.6590887040469968\n",
            "(80000, 5002)\n",
            "(20000, 5002)\n",
            "(63978, 5002)\n",
            "\n",
            "Class: obscene\n",
            "Train ROC AUC Score: 0.9234533404235623\n",
            "Val ROC AUC Score: 0.8675645938826668\n",
            "Test ROC AUC Score: 0.8500987669308729\n",
            "(80000, 5003)\n",
            "(20000, 5003)\n",
            "(63978, 5003)\n",
            "\n",
            "Class: threat\n",
            "Train ROC AUC Score: 0.8675074250380068\n",
            "Val ROC AUC Score: 0.6390182680125203\n",
            "Test ROC AUC Score: 0.6559903698573234\n",
            "(80000, 5004)\n",
            "(20000, 5004)\n",
            "(63978, 5004)\n",
            "\n",
            "Class: insult\n",
            "Train ROC AUC Score: 0.9184486401928967\n",
            "Val ROC AUC Score: 0.8533773949449052\n",
            "Test ROC AUC Score: 0.8562945106040277\n",
            "(80000, 5005)\n",
            "(20000, 5005)\n",
            "(63978, 5005)\n",
            "\n",
            "Class: identity_hate\n",
            "Train ROC AUC Score: 0.8589558179147085\n",
            "Val ROC AUC Score: 0.7046630405520065\n",
            "Test ROC AUC Score: 0.6991051382125834\n",
            "(80000, 5006)\n",
            "(20000, 5006)\n",
            "(63978, 5006)\n",
            "\n",
            "0.7603887379456319\n"
          ],
          "name": "stdout"
        }
      ]
    },
    {
      "cell_type": "code",
      "metadata": {
        "id": "qJgo5z04Y2Ca"
      },
      "source": [
        ""
      ],
      "execution_count": 103,
      "outputs": []
    },
    {
      "cell_type": "code",
      "metadata": {
        "id": "dP_ZEGCekqaF"
      },
      "source": [
        ""
      ],
      "execution_count": 103,
      "outputs": []
    },
    {
      "cell_type": "code",
      "metadata": {
        "id": "gkRjLEplmGtM"
      },
      "source": [
        ""
      ],
      "execution_count": 103,
      "outputs": []
    },
    {
      "cell_type": "code",
      "metadata": {
        "id": "mbsr6l-hm3Ws"
      },
      "source": [
        ""
      ],
      "execution_count": 103,
      "outputs": []
    }
  ]
}